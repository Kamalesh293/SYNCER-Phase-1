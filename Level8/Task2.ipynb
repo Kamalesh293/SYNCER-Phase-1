{
 "cells": [
  {
   "cell_type": "code",
   "execution_count": 1,
   "metadata": {},
   "outputs": [
    {
     "name": "stdout",
     "output_type": "stream",
     "text": [
      "T-score: 11.03\n",
      "P-value: 0.00000\n",
      "Reject H₀: Medication likely increases IQ (mean = 140 > 100).\n"
     ]
    }
   ],
   "source": [
    "import numpy as np\n",
    "from scipy.stats import ttest_1samp\n",
    "\n",
    "np.random.seed(42) \n",
    "data = np.random.normal(loc=140, scale=20, size=30)\n",
    "\n",
    "t_score, p_value = ttest_1samp(data, popmean=100)\n",
    "print(f\"T-score: {t_score:.2f}\")\n",
    "print(f\"P-value: {p_value:.5f}\")\n",
    "\n",
    "alpha = 0.05\n",
    "if p_value < alpha:\n",
    "    print(\"Reject H₀: Medication likely increases IQ (mean = 140 > 100).\")\n",
    "else:\n",
    "    print(\"Fail to reject H₀: Insufficient evidence that medication affects IQ.\")\n",
    "\n",
    "\n"
   ]
  }
 ],
 "metadata": {
  "kernelspec": {
   "display_name": "base",
   "language": "python",
   "name": "python3"
  },
  "language_info": {
   "codemirror_mode": {
    "name": "ipython",
    "version": 3
   },
   "file_extension": ".py",
   "mimetype": "text/x-python",
   "name": "python",
   "nbconvert_exporter": "python",
   "pygments_lexer": "ipython3",
   "version": "3.12.4"
  }
 },
 "nbformat": 4,
 "nbformat_minor": 2
}
