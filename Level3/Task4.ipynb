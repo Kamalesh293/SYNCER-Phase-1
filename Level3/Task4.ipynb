{
 "cells": [
  {
   "cell_type": "code",
   "execution_count": null,
   "metadata": {},
   "outputs": [
    {
     "name": "stdout",
     "output_type": "stream",
     "text": [
      "1\n"
     ]
    }
   ],
   "source": [
    "import time \n",
    "\n",
    "def decorator(func):\n",
    "    def wrapper():\n",
    "        start_time=time.time()\n",
    "        func()\n",
    "        end_time=time.time()\n",
    "        print(round(end_time-start_time))\n",
    "    return wrapper()\n",
    "@decorator  \n",
    "def sample():\n",
    "    sleep=time.sleep(1)\n"
   ]
  },
  {
   "cell_type": "code",
   "execution_count": null,
   "metadata": {},
   "outputs": [],
   "source": []
  }
 ],
 "metadata": {
  "kernelspec": {
   "display_name": "base",
   "language": "python",
   "name": "python3"
  },
  "language_info": {
   "codemirror_mode": {
    "name": "ipython",
    "version": 3
   },
   "file_extension": ".py",
   "mimetype": "text/x-python",
   "name": "python",
   "nbconvert_exporter": "python",
   "pygments_lexer": "ipython3",
   "version": "3.12.4"
  }
 },
 "nbformat": 4,
 "nbformat_minor": 2
}
