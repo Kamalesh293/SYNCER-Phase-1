{
 "cells": [
  {
   "cell_type": "code",
   "execution_count": 1,
   "metadata": {},
   "outputs": [
    {
     "name": "stdout",
     "output_type": "stream",
     "text": [
      "Collecting PyPDF2\n",
      "  Downloading pypdf2-3.0.1-py3-none-any.whl.metadata (6.8 kB)\n",
      "Downloading pypdf2-3.0.1-py3-none-any.whl (232 kB)\n",
      "   ---------------------------------------- 0.0/232.6 kB ? eta -:--:--\n",
      "   ------------ --------------------------- 71.7/232.6 kB 2.0 MB/s eta 0:00:01\n",
      "   -------------------------------------- - 225.3/232.6 kB 2.8 MB/s eta 0:00:01\n",
      "   ---------------------------------------- 232.6/232.6 kB 2.4 MB/s eta 0:00:00\n",
      "Installing collected packages: PyPDF2\n",
      "Successfully installed PyPDF2-3.0.1\n",
      "Note: you may need to restart the kernel to use updated packages.\n"
     ]
    }
   ],
   "source": [
    "pip install PyPDF2"
   ]
  },
  {
   "cell_type": "code",
   "execution_count": 8,
   "metadata": {},
   "outputs": [
    {
     "name": "stdout",
     "output_type": "stream",
     "text": [
      "Encrypted PDF saved as: output.pdf\n"
     ]
    }
   ],
   "source": [
    "from PyPDF2 import PdfReader,PdfWriter\n",
    "\n",
    "input_pdf_path = r\"C:\\Users\\Kamalesh\\Downloads\\dummy.pdf\"\n",
    "reader = PdfReader(input_pdf_path)\n",
    "writer = PdfWriter(input_pdf_path)\n",
    "\n",
    "for page in reader.pages:\n",
    "    writer.add_page(page)\n",
    "\n",
    "password = \"Kamalesh\"  \n",
    "writer.encrypt(password)\n",
    "\n",
    "output_pdf_path = \"output.pdf\"  \n",
    "with open(output_pdf_path, \"wb\") as output_file:\n",
    "    writer.write(output_file)\n",
    "\n",
    "print(f\"Encrypted PDF saved as: {output_pdf_path}\")"
   ]
  },
  {
   "cell_type": "code",
   "execution_count": null,
   "metadata": {},
   "outputs": [],
   "source": []
  }
 ],
 "metadata": {
  "kernelspec": {
   "display_name": "base",
   "language": "python",
   "name": "python3"
  },
  "language_info": {
   "codemirror_mode": {
    "name": "ipython",
    "version": 3
   },
   "file_extension": ".py",
   "mimetype": "text/x-python",
   "name": "python",
   "nbconvert_exporter": "python",
   "pygments_lexer": "ipython3",
   "version": "3.12.4"
  }
 },
 "nbformat": 4,
 "nbformat_minor": 2
}
