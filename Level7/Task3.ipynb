{
 "cells": [
  {
   "cell_type": "code",
   "execution_count": 1,
   "metadata": {},
   "outputs": [
    {
     "name": "stdout",
     "output_type": "stream",
     "text": [
      "Z-Scores: [-1.07349008 -0.87831007 -0.68313005 -0.48795004 -0.29277002 -0.09759001\n",
      "  0.09759001  0.29277002  0.48795004  2.6349302 ]\n",
      "No outliers detected; all z-scores are below 3.\n"
     ]
    }
   ],
   "source": [
    "\n",
    "import numpy as np\n",
    "data = np.array([1, 2, 3, 4, 5, 6, 7, 8, 9, 20])\n",
    "mean = np.mean(data)\n",
    "std_dev = np.std(data, ddof=0)\n",
    "z_scores = (data - mean) / std_dev\n",
    "outliers = data[np.abs(z_scores) > 3]\n",
    "\n",
    "print(f\"Z-Scores: {z_scores}\")\n",
    "if len(outliers) == 0:\n",
    "    print(\"No outliers detected; all z-scores are below 3.\")\n",
    "else:\n",
    "    print(f\"Outliers detected: {outliers}\")"
   ]
  },
  {
   "cell_type": "code",
   "execution_count": null,
   "metadata": {},
   "outputs": [],
   "source": []
  }
 ],
 "metadata": {
  "kernelspec": {
   "display_name": "base",
   "language": "python",
   "name": "python3"
  },
  "language_info": {
   "codemirror_mode": {
    "name": "ipython",
    "version": 3
   },
   "file_extension": ".py",
   "mimetype": "text/x-python",
   "name": "python",
   "nbconvert_exporter": "python",
   "pygments_lexer": "ipython3",
   "version": "3.12.4"
  }
 },
 "nbformat": 4,
 "nbformat_minor": 2
}
