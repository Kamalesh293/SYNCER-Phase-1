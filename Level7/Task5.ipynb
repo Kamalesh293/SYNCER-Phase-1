{
 "cells": [
  {
   "cell_type": "code",
   "execution_count": 1,
   "metadata": {},
   "outputs": [],
   "source": [
    "import numpy as np"
   ]
  },
  {
   "cell_type": "code",
   "execution_count": 2,
   "metadata": {},
   "outputs": [],
   "source": [
    "rolls = np.random.randint(1, 7, size=1000)\n",
    "count_1_or_3 = np.sum((rolls == 1) | (rolls == 3)) \n",
    "probability_1_or_3 = count_1_or_3 / 1000\n",
    "theoretical_probability = 1/3"
   ]
  },
  {
   "cell_type": "code",
   "execution_count": 3,
   "metadata": {},
   "outputs": [
    {
     "name": "stdout",
     "output_type": "stream",
     "text": [
      "Simulated Probability (1 or 3): 0.3430\n",
      "Theoretical Probability (1 or 3): 0.3333\n",
      "The simulated probability is close to the theoretical probability.\n"
     ]
    }
   ],
   "source": [
    "print(f\"Simulated Probability (1 or 3): {probability_1_or_3:.4f}\")\n",
    "print(f\"Theoretical Probability (1 or 3): {theoretical_probability:.4f}\")\n",
    "print(\"The simulated probability is close to the theoretical probability.\")\n"
   ]
  },
  {
   "cell_type": "code",
   "execution_count": null,
   "metadata": {},
   "outputs": [],
   "source": []
  }
 ],
 "metadata": {
  "kernelspec": {
   "display_name": "base",
   "language": "python",
   "name": "python3"
  },
  "language_info": {
   "codemirror_mode": {
    "name": "ipython",
    "version": 3
   },
   "file_extension": ".py",
   "mimetype": "text/x-python",
   "name": "python",
   "nbconvert_exporter": "python",
   "pygments_lexer": "ipython3",
   "version": "3.12.4"
  }
 },
 "nbformat": 4,
 "nbformat_minor": 2
}
