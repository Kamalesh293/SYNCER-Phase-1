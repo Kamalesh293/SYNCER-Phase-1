{
 "cells": [
  {
   "cell_type": "code",
   "execution_count": 1,
   "metadata": {},
   "outputs": [
    {
     "name": "stdout",
     "output_type": "stream",
     "text": [
      "Simulated Probability (5 then 4): 0.0290\n",
      "Theoretical Probability (5 then 4): 0.0278\n",
      "The simulated probability is close to the theoretical probability.\n"
     ]
    }
   ],
   "source": [
    "import numpy as np\n",
    "rolls_1 = np.random.randint(1, 7, size=1000)  \n",
    "rolls_2 = np.random.randint(1, 7, size=1000)  \n",
    "count_5_then_4 = np.sum((rolls_1 == 5) & (rolls_2 == 4))\n",
    "simulated_probability = count_5_then_4 / 1000\n",
    "theoretical_probability = (1 / 6) * (1 / 6)  \n",
    "\n",
    "print(f\"Simulated Probability (5 then 4): {simulated_probability:.4f}\")\n",
    "print(f\"Theoretical Probability (5 then 4): {theoretical_probability:.4f}\")\n",
    "print(\"The simulated probability is close to the theoretical probability.\")"
   ]
  },
  {
   "cell_type": "code",
   "execution_count": null,
   "metadata": {},
   "outputs": [],
   "source": []
  }
 ],
 "metadata": {
  "kernelspec": {
   "display_name": "base",
   "language": "python",
   "name": "python3"
  },
  "language_info": {
   "codemirror_mode": {
    "name": "ipython",
    "version": 3
   },
   "file_extension": ".py",
   "mimetype": "text/x-python",
   "name": "python",
   "nbconvert_exporter": "python",
   "pygments_lexer": "ipython3",
   "version": "3.12.4"
  }
 },
 "nbformat": 4,
 "nbformat_minor": 2
}
