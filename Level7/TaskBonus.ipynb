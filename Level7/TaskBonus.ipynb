{
 "cells": [
  {
   "cell_type": "code",
   "execution_count": 5,
   "metadata": {},
   "outputs": [],
   "source": [
    "import numpy as np\n",
    "deck = ['queen'] * 4 + ['ace'] * 4 + ['other'] * 44\n",
    "trials = 1000\n",
    "count_queen_then_ace = 0\n",
    "\n",
    "for _ in range(trials):\n",
    "    drawn_cards = np.random.choice(deck, size=2, replace=False) \n",
    "    if drawn_cards[0] == 'queen' and drawn_cards[1] == 'ace':\n",
    "        count_queen_then_ace += 1\n",
    "\n"
   ]
  },
  {
   "cell_type": "code",
   "execution_count": 6,
   "metadata": {},
   "outputs": [
    {
     "name": "stdout",
     "output_type": "stream",
     "text": [
      "Simulated Probability (Queen then Ace): 0.0030\n",
      "Theoretical Probability (Queen then Ace): 0.0060\n",
      "The simulated probability is close to the theoretical probability.\n"
     ]
    }
   ],
   "source": [
    "simulated_probability = count_queen_then_ace / trials\n",
    "theoretical_probability = (4 / 52) * (4 / 51) \n",
    "print(f\"Simulated Probability (Queen then Ace): {simulated_probability:.4f}\")\n",
    "print(f\"Theoretical Probability (Queen then Ace): {theoretical_probability:.4f}\")\n",
    "print(\"The simulated probability is close to the theoretical probability.\")"
   ]
  },
  {
   "cell_type": "code",
   "execution_count": null,
   "metadata": {},
   "outputs": [],
   "source": [
    "\n",
    "\n",
    "\n"
   ]
  }
 ],
 "metadata": {
  "kernelspec": {
   "display_name": "base",
   "language": "python",
   "name": "python3"
  },
  "language_info": {
   "codemirror_mode": {
    "name": "ipython",
    "version": 3
   },
   "file_extension": ".py",
   "mimetype": "text/x-python",
   "name": "python",
   "nbconvert_exporter": "python",
   "pygments_lexer": "ipython3",
   "version": "3.12.4"
  }
 },
 "nbformat": 4,
 "nbformat_minor": 2
}
