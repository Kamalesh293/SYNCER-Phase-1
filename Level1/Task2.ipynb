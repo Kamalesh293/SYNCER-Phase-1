{
 "cells": [
  {
   "cell_type": "code",
   "execution_count": 10,
   "metadata": {},
   "outputs": [
    {
     "name": "stdout",
     "output_type": "stream",
     "text": [
      "[1, 2, 3, 4]\n",
      "{2, 4, 6}\n",
      "{'a': 1, 'b': 2, 'c': 3, 'd': 7}\n"
     ]
    }
   ],
   "source": [
    "a3=[1,2,3]#list\n",
    "a3.append(4)\n",
    "b3={2,4,6}#set\n",
    "c3={\"a\":1,\"b\":2,\"c\":3}#dictionary\n",
    "c3[\"d\"]=7\n",
    "print(a3)\n",
    "print(b3)\n",
    "print(c3)\n",
    "\n"
   ]
  },
  {
   "cell_type": "code",
   "execution_count": null,
   "metadata": {},
   "outputs": [],
   "source": []
  }
 ],
 "metadata": {
  "kernelspec": {
   "display_name": "base",
   "language": "python",
   "name": "python3"
  },
  "language_info": {
   "codemirror_mode": {
    "name": "ipython",
    "version": 3
   },
   "file_extension": ".py",
   "mimetype": "text/x-python",
   "name": "python",
   "nbconvert_exporter": "python",
   "pygments_lexer": "ipython3",
   "version": "3.12.4"
  }
 },
 "nbformat": 4,
 "nbformat_minor": 2
}
