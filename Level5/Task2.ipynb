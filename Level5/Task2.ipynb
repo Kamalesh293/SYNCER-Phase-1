{
 "cells": [
  {
   "cell_type": "code",
   "execution_count": null,
   "metadata": {},
   "outputs": [],
   "source": [
    "\n",
    "student=[]\n",
    "for i in range(5):\n",
    "    name = input(\"Enter student name: \")\n",
    "    grade = float(input(f\"Enter grade for {name} (0-100): \"))\n",
    "    student.append((name, grade))\n",
    "\n",
    "    "
   ]
  },
  {
   "cell_type": "code",
   "execution_count": 10,
   "metadata": {},
   "outputs": [],
   "source": [
    "def calculate_average_grade(grades):\n",
    "    total = sum(grade for _, grade in grades)\n",
    "    return total / len(grades)\n"
   ]
  },
  {
   "cell_type": "code",
   "execution_count": 11,
   "metadata": {},
   "outputs": [],
   "source": [
    "\n",
    "def count_passing_students(grades):\n",
    "    return sum(1 for _, grade in grades if grade > 60)\n"
   ]
  },
  {
   "cell_type": "code",
   "execution_count": 12,
   "metadata": {},
   "outputs": [],
   "source": [
    "average = calculate_average_grade(student)\n",
    "passing_count = count_passing_students(student)\n"
   ]
  },
  {
   "cell_type": "code",
   "execution_count": 13,
   "metadata": {},
   "outputs": [
    {
     "name": "stdout",
     "output_type": "stream",
     "text": [
      "Average: 89.52\n",
      "Number of Passing Students: 4\n"
     ]
    }
   ],
   "source": [
    "print(f\"Average: {average:.2f}\")\n",
    "print(f\"Number of Passing Students: {passing_count}\")\n"
   ]
  },
  {
   "cell_type": "code",
   "execution_count": null,
   "metadata": {},
   "outputs": [],
   "source": []
  }
 ],
 "metadata": {
  "kernelspec": {
   "display_name": "base",
   "language": "python",
   "name": "python3"
  },
  "language_info": {
   "codemirror_mode": {
    "name": "ipython",
    "version": 3
   },
   "file_extension": ".py",
   "mimetype": "text/x-python",
   "name": "python",
   "nbconvert_exporter": "python",
   "pygments_lexer": "ipython3",
   "version": "3.12.4"
  }
 },
 "nbformat": 4,
 "nbformat_minor": 2
}
