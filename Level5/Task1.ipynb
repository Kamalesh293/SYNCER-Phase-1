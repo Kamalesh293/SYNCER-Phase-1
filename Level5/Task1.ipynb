{
 "cells": [
  {
   "cell_type": "code",
   "execution_count": 2,
   "metadata": {},
   "outputs": [],
   "source": [
    "income={\"Salary\":2000,\"freelance\": 1200}\n",
    "expenses={\"rent\":600,\"food\":800}"
   ]
  },
  {
   "cell_type": "code",
   "execution_count": 3,
   "metadata": {},
   "outputs": [],
   "source": [
    "def calculate_total_income(income_dict):\n",
    "    return sum(income_dict.values())\n",
    "def calculate_total_expenses(expenses_dict):\n",
    "    return sum(expenses_dict.values())\n",
    "\n",
    "total_income = calculate_total_income(income)\n",
    "total_expenses = calculate_total_expenses(expenses)\n",
    "balance = total_income - total_expenses\n"
   ]
  },
  {
   "cell_type": "code",
   "execution_count": 4,
   "metadata": {},
   "outputs": [
    {
     "name": "stdout",
     "output_type": "stream",
     "text": [
      "Income: 3200, Expenses: 1400, Balance: 1800\n"
     ]
    }
   ],
   "source": [
    "print(f\"Income: {total_income}, Expenses: {total_expenses}, Balance: {balance}\")\n"
   ]
  },
  {
   "cell_type": "code",
   "execution_count": null,
   "metadata": {},
   "outputs": [],
   "source": []
  }
 ],
 "metadata": {
  "kernelspec": {
   "display_name": "base",
   "language": "python",
   "name": "python3"
  },
  "language_info": {
   "codemirror_mode": {
    "name": "ipython",
    "version": 3
   },
   "file_extension": ".py",
   "mimetype": "text/x-python",
   "name": "python",
   "nbconvert_exporter": "python",
   "pygments_lexer": "ipython3",
   "version": "3.12.4"
  }
 },
 "nbformat": 4,
 "nbformat_minor": 2
}
