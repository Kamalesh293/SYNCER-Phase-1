{
 "cells": [
  {
   "cell_type": "code",
   "execution_count": 1,
   "metadata": {},
   "outputs": [
    {
     "name": "stdout",
     "output_type": "stream",
     "text": [
      "SHA256 Hash: 341d9445779b19f8ad7bfa93cf22acc2058af13407eafc0106d675d1fe5bb2b9\n"
     ]
    }
   ],
   "source": [
    "import hashlib\n",
    "message = input(\"Enter a short text message: \")\n",
    "with open(\"message.txt\", \"w\") as file:\n",
    "    file.write(message)\n",
    "\n",
    "with open(\"message.txt\", \"r\") as file:\n",
    "    file_content = file.read()\n",
    "\n",
    "hash_object = hashlib.sha256(file_content.encode())\n",
    "hash_value = hash_object.hexdigest()\n",
    "\n",
    "with open(\"encrypted.txt\", \"w\") as file:\n",
    "    file.write(hash_value)\n",
    "\n",
    "print(f\"SHA256 Hash: {hash_value}\")"
   ]
  }
 ],
 "metadata": {
  "kernelspec": {
   "display_name": "base",
   "language": "python",
   "name": "python3"
  },
  "language_info": {
   "codemirror_mode": {
    "name": "ipython",
    "version": 3
   },
   "file_extension": ".py",
   "mimetype": "text/x-python",
   "name": "python",
   "nbconvert_exporter": "python",
   "pygments_lexer": "ipython3",
   "version": "3.12.4"
  }
 },
 "nbformat": 4,
 "nbformat_minor": 2
}
